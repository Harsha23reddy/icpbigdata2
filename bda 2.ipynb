{
  "nbformat": 4,
  "nbformat_minor": 0,
  "metadata": {
    "colab": {
      "provenance": []
    },
    "kernelspec": {
      "name": "python3",
      "display_name": "Python 3"
    },
    "language_info": {
      "name": "python"
    }
  },
  "cells": [
    {
      "cell_type": "code",
      "execution_count": 1,
      "metadata": {
        "colab": {
          "base_uri": "https://localhost:8080/"
        },
        "id": "YBo00o0atwng",
        "outputId": "20725924-924d-4df9-a0aa-e1d8ce6a8e38"
      },
      "outputs": [
        {
          "output_type": "stream",
          "name": "stdout",
          "text": [
            "Bartholomew\n"
          ]
        }
      ],
      "source": [
        "def first_word(word_list):\n",
        "    if not word_list:\n",
        "        return None\n",
        "    return min(word_list)\n",
        "students = ['Mary', 'Zelda', 'Jimmy', 'Jack', 'Bartholomew', 'Gertrude']\n",
        "print(first_word(students))\n"
      ]
    },
    {
      "cell_type": "code",
      "source": [
        "class Employee:\n",
        "\n",
        "    employee_count = 0\n",
        "    total_salary = 0\n",
        "\n",
        "    def __init__(self, name, family, salary, department):\n",
        "        self.name = name\n",
        "        self.family = family\n",
        "        self.salary = salary\n",
        "        self.department = department\n",
        "\n",
        "        # Update class variables\n",
        "        Employee.employee_count += 1\n",
        "        Employee.total_salary += salary\n",
        "\n",
        "    @classmethod\n",
        "    def average_salary(cls):\n",
        "        if cls.employee_count == 0:\n",
        "            return 0\n",
        "        return cls.total_salary / cls.employee_count\n",
        "\n",
        "    def display_info(self):\n",
        "        print(f\"Name: {self.name}, Family: {self.family}, Salary: {self.salary}, Department: {self.department}\")\n",
        "\n",
        "class FulltimeEmployee(Employee):\n",
        "    def __init__(self, name, family, salary, department):\n",
        "        super().__init__(name, family, salary, department)\n",
        "\n",
        "emp1 = Employee(\"Alice\", \"Smith\", 60000, \"Engineering\")\n",
        "emp2 = FulltimeEmployee(\"Bob\", \"Johnson\", 70000, \"HR\")\n",
        "emp3 = FulltimeEmployee(\"Charlie\", \"Williams\", 85000, \"Finance\")\n",
        "\n",
        "emp1.display_info()\n",
        "emp2.display_info()\n",
        "emp3.display_info()\n",
        "\n",
        "print(f\"\\nTotal Employees: {Employee.employee_count}\")\n",
        "print(f\"Average Salary: ${Employee.average_salary():.2f}\")"
      ],
      "metadata": {
        "colab": {
          "base_uri": "https://localhost:8080/"
        },
        "id": "3UOz9EGwu8k0",
        "outputId": "09acd652-1004-41ea-e7c8-068500e4f336"
      },
      "execution_count": null,
      "outputs": [
        {
          "output_type": "stream",
          "name": "stdout",
          "text": [
            "Name: Alice, Family: Smith, Salary: 60000, Department: Engineering\n",
            "Name: Bob, Family: Johnson, Salary: 70000, Department: HR\n",
            "Name: Charlie, Family: Williams, Salary: 85000, Department: Finance\n",
            "\n",
            "Total Employees: 3\n",
            "Average Salary: $71666.67\n"
          ]
        }
      ]
    },
    {
      "cell_type": "code",
      "source": [
        "def sum_all(*args):\n",
        "    return sum(args)\n",
        "\n",
        "print(\"sum of 1, 2, 3 is:\", sum_all(1, 2, 3))\n",
        "print(\"sum of 4, 5, 6, 7 is:\", sum_all(4, 5, 6, 7))\n"
      ],
      "metadata": {
        "colab": {
          "base_uri": "https://localhost:8080/"
        },
        "id": "ACX8XFhuwbm9",
        "outputId": "7a792800-4c4e-4a26-a919-61e69720dcc4"
      },
      "execution_count": 2,
      "outputs": [
        {
          "output_type": "stream",
          "name": "stdout",
          "text": [
            "sum of 1, 2, 3 is: 6\n",
            "sum of 4, 5, 6, 7 is: 22\n"
          ]
        }
      ]
    },
    {
      "cell_type": "code",
      "source": [
        "class Counter:\n",
        "    count = 0\n",
        "\n",
        "    def __init__(self):\n",
        "        self._count = 0\n",
        "\n",
        "    def increment(self):\n",
        "        self._count += 1\n",
        "        Counter.count += 1\n",
        "\n",
        "    def get_counts(self):\n",
        "        return f\"Instance count: {self._count}, Class count: {Counter.count}\"\n",
        "\n",
        "\n",
        "\n",
        "a = Counter()\n",
        "b = Counter()\n",
        "\n",
        "\n",
        "a.increment()\n",
        "a.increment()\n",
        "b.increment()\n",
        "\n",
        "\n",
        "print(a.get_counts())\n",
        "print(b.get_counts())"
      ],
      "metadata": {
        "colab": {
          "base_uri": "https://localhost:8080/"
        },
        "id": "uAIe9GHgxy_D",
        "outputId": "5f236cfc-4e90-451e-f403-e648b2048fed"
      },
      "execution_count": null,
      "outputs": [
        {
          "output_type": "stream",
          "name": "stdout",
          "text": [
            "Instance count: 2, Class count: 3\n",
            "Instance count: 1, Class count: 3\n"
          ]
        }
      ]
    },
    {
      "cell_type": "markdown",
      "source": [
        "1a.difference between the Counter._count and self.count is Counter._count is a Class Variable which is shared among all the instance of the class where as self._count is instance variable which is unique to each object"
      ],
      "metadata": {
        "id": "3nx57P_UaCrz"
      }
    },
    {
      "cell_type": "code",
      "source": [],
      "metadata": {
        "id": "wfd_g9ZuyE-j"
      },
      "execution_count": null,
      "outputs": []
    },
    {
      "cell_type": "markdown",
      "source": [
        "1b.if incrementing Count._count all the instances see the updated value in the class variable .   if incrementing self._count  only that particular instances variable changes in the instance variable\n",
        "\n"
      ],
      "metadata": {
        "id": "kONotah_c9OH"
      }
    },
    {
      "cell_type": "code",
      "source": [],
      "metadata": {
        "id": "opmlbXuWdvFn"
      },
      "execution_count": null,
      "outputs": []
    },
    {
      "cell_type": "markdown",
      "source": [
        "1c.Class Variables\n",
        "A class variable is shared among all instances of a class. It’s defined directly in the class body and is the same for every object of that class.\n",
        "\n",
        "🔹 Instance Variables\n",
        "An instance variable is specific to an object. It’s usually defined inside __init__() or elsewhere using self."
      ],
      "metadata": {
        "id": "vVN-hmsjmMee"
      }
    }
  ]
}